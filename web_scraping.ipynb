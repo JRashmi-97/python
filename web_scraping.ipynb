{
 "cells": [
  {
   "cell_type": "code",
   "execution_count": 1,
   "id": "aa8ec8be-2735-42d2-9797-f65a3d29a7ad",
   "metadata": {},
   "outputs": [
    {
     "name": "stdout",
     "output_type": "stream",
     "text": [
      "Requirement already satisfied: pandas in c:\\users\\student\\anaconda3\\lib\\site-packages (2.2.2)\n",
      "Note: you may need to restart the kernel to use updated packages.\n",
      "Requirement already satisfied: numpy>=1.26.0 in c:\\users\\student\\anaconda3\\lib\\site-packages (from pandas) (1.26.4)\n",
      "Requirement already satisfied: python-dateutil>=2.8.2 in c:\\users\\student\\anaconda3\\lib\\site-packages (from pandas) (2.9.0.post0)\n",
      "Requirement already satisfied: pytz>=2020.1 in c:\\users\\student\\anaconda3\\lib\\site-packages (from pandas) (2024.1)\n",
      "Requirement already satisfied: tzdata>=2022.7 in c:\\users\\student\\anaconda3\\lib\\site-packages (from pandas) (2023.3)\n",
      "Requirement already satisfied: six>=1.5 in c:\\users\\student\\anaconda3\\lib\\site-packages (from python-dateutil>=2.8.2->pandas) (1.16.0)\n"
     ]
    }
   ],
   "source": [
    "pip install pandas\n"
   ]
  },
  {
   "cell_type": "code",
   "execution_count": 2,
   "id": "32e9cef2-73c4-4f43-be7b-654bcee2418e",
   "metadata": {},
   "outputs": [
    {
     "name": "stdout",
     "output_type": "stream",
     "text": [
      "Requirement already satisfied: requests in c:\\users\\student\\anaconda3\\lib\\site-packages (2.32.2)\n",
      "Requirement already satisfied: charset-normalizer<4,>=2 in c:\\users\\student\\anaconda3\\lib\\site-packages (from requests) (2.0.4)\n",
      "Requirement already satisfied: idna<4,>=2.5 in c:\\users\\student\\anaconda3\\lib\\site-packages (from requests) (3.7)\n",
      "Requirement already satisfied: urllib3<3,>=1.21.1 in c:\\users\\student\\anaconda3\\lib\\site-packages (from requests) (2.2.2)\n",
      "Requirement already satisfied: certifi>=2017.4.17 in c:\\users\\student\\anaconda3\\lib\\site-packages (from requests) (2025.4.26)\n",
      "Note: you may need to restart the kernel to use updated packages.\n"
     ]
    }
   ],
   "source": [
    "pip install requests "
   ]
  },
  {
   "cell_type": "code",
   "execution_count": 3,
   "id": "3873c344-300f-4419-bff3-5632001828bd",
   "metadata": {},
   "outputs": [
    {
     "name": "stdout",
     "output_type": "stream",
     "text": [
      "Requirement already satisfied: BeautifulSoup4 in c:\\users\\student\\anaconda3\\lib\\site-packages (4.12.3)\n",
      "Requirement already satisfied: soupsieve>1.2 in c:\\users\\student\\anaconda3\\lib\\site-packages (from BeautifulSoup4) (2.5)\n",
      "Note: you may need to restart the kernel to use updated packages.\n"
     ]
    }
   ],
   "source": [
    "pip install BeautifulSoup4"
   ]
  },
  {
   "cell_type": "code",
   "execution_count": 1,
   "id": "9cad4377-f16e-42e6-baba-641ea5301a0b",
   "metadata": {},
   "outputs": [
    {
     "name": "stdout",
     "output_type": "stream",
     "text": [
      "<!DOCTYPE html><html lang=\"en\" dir=\"ltr\"><head><meta charSet=\"utf-8\"/><title>Page not found</title><link rel=\"icon\" sizes=\"32x32\" type=\"image/png\" href=\"https://open.spotifycdn.com/cdn/images/favicon32.b64ecc03.png\"/><link rel=\"icon\" sizes=\"16x16\" type=\"image/png\" href=\"https://open.spotifycdn.com/cdn/images/favicon16.1c487bff.png\"/><link rel=\"icon\" href=\"https://open.spotifycdn.com/cdn/images/favicon.0f31d2ea.ico\"/><meta http-equiv=\"X-UA-Compatible\" content=\"IE=9\"/><meta name=\"viewport\" content=\"width=device-width, initial-scale=1, maximum-scale=1\"/><link rel=\"preload\" href=\"https://encore.scdn.co/fonts/SpotifyMixUI-Regular-cc3b1de388efa4cbca6c75cebc24585e.woff2\" as=\"font\" type=\"font/woff2\" crossorigin=\"anonymous\"/><link rel=\"preload\" href=\"https://encore.scdn.co/fonts/SpotifyMixUITitleVariable-8769ccfde3379b7ebcadd9529b49d0cc.woff2\" as=\"font\" type=\"font/woff2\" crossorigin=\"anonymous\"/><link rel=\"preload\" href=\"https://encore.scdn.co/fonts/SpotifyMixUI-Bold-4264b799009b1db5c491778b1bc8e5b7.woff2\" as=\"font\" type=\"font/woff2\" crossorigin=\"anonymous\"/><link rel=\"preload\" href=\"https://encore.scdn.co/fonts/SpotifyMixUITitleVariable-8769ccfde3379b7ebcadd9529b49d0cc.woff2\" as=\"font\" type=\"font/woff2\" crossorigin=\"anonymous\"/><meta property=\"og:site_name\" content=\"Spotify\"/><meta property=\"fb:app_id\" content=\"174829003346\"/><link rel=\"canonical\" href=\"https://open.spotify.com/python/default/asp\"/><link rel=\"stylesheet\" href=\"https://open.spotifycdn.com/cdn/build/error-page/error-page.21584b21.css\"/><script defer=\"\" src=\"https://www.googleoptimize.com/optimize.js?id=GTM-W53X654\"></script><script defer=\"\" src=\"https://open.spotifycdn.com/cdn/js/gtm.96d60fd6.js\"></script><script defer=\"\" src=\"https://open.spotifycdn.com/cdn/js/retargeting-pixels.02346b5d.js\"></script></head><body><div class=\"wrapper\"><div class=\"icon\"><img alt=\"Logo\" src=\"https://open.spotifycdn.com/cdn/images/error-page-logo.24aca703.svg\"/></div><div class=\"content\"><h1>Page not found</h1><p>We can’t seem to find the page you are looking for.</p><div><a href=\"https://open.spotify.com\" class=\"primary\">Home</a><a href=\"https://support.spotify.com/\">Help</a></div></div></div><script src=\"https://open.spotifycdn.com/cdn/build/error-page/error-page.31d6cfe0.js\"></script></body></html>\n"
     ]
    }
   ],
   "source": [
    "import pandas as pd\n",
    "import requests as r\n",
    "rashmi=r.get('https://open.spotify.com/python/default/asp').text\n",
    "print(rashmi)"
   ]
  },
  {
   "cell_type": "code",
   "execution_count": 20,
   "id": "5b98d953-1a6f-449d-b308-6d3d242eb62b",
   "metadata": {},
   "outputs": [
    {
     "name": "stdout",
     "output_type": "stream",
     "text": [
      "     name  age         city\n",
      "0   alice   25     new york\n",
      "1     bob   32  carlifornia\n",
      "2   james   34  los angeles\n",
      "3  joseph   43        texas\n",
      "     name  age\n",
      "0   alice   25\n",
      "1     bob   32\n",
      "2   james   34\n",
      "3  joseph   43\n",
      "name       alice\n",
      "age           25\n",
      "city    new york\n",
      "Name: 0, dtype: object\n",
      "     name  age   city\n",
      "3  joseph   43  texas\n"
     ]
    }
   ],
   "source": [
    "data={\n",
    "    'name':['alice','bob','james','joseph'],\n",
    "    'age':[25,32,34,43,],\n",
    "    'city':['new york','carlifornia','los angeles','texas']\n",
    "}\n",
    "df=pd.DataFrame(data)\n",
    "print(df)\n",
    "print(df[[\"name\",\"age\"]])\n",
    "t=df.iloc[0]\n",
    "f=df.loc[0]\n",
    "print(f)\n",
    "print(df[(df[\"age\"]>24)&(df[\"city\"]==\"texas\")])\n"
   ]
  },
  {
   "cell_type": "code",
   "execution_count": 50,
   "id": "101b5aaa-ca66-42cb-91be-9e32cc869eea",
   "metadata": {},
   "outputs": [
    {
     "name": "stdout",
     "output_type": "stream",
     "text": [
      "           name    age  marks\n",
      "0  False  False  False  False\n",
      "1  False  False  False  False\n",
      "2  False  False  False  False\n",
      "3  False  False  False  False\n",
      "4  False  False  False  False\n",
      "         name  age  marks\n",
      "0  1    karan   16    253\n",
      "1  2   vidhya   15    235\n",
      "2  3   saloni   17    245\n",
      "3  4   ananya   16    265\n",
      "4  5  kritika   15    296\n",
      "1294\n",
      "258.8\n",
      "296\n",
      "235\n",
      "1294\n",
      "5\n",
      "         name  age  marks\n",
      "1  2   vidhya   15    235\n",
      "2  3   saloni   17    245\n",
      "0  1    karan   16    253\n",
      "3  4   ananya   16    265\n",
      "4  5  kritika   15    296\n"
     ]
    }
   ],
   "source": [
    "import pandas as pd\n",
    "r=pd.read_csv(r\"C:\\Users\\Student\\Desktop\\r_pd.csv\")\n",
    "print(r.isnull())\n",
    "print(r.dropna())\n",
    "print(r[\"marks\"].sum())\n",
    "print(r[\"marks\"].mean())\n",
    "print(r[\"marks\"].max())\n",
    "print(r[\"marks\"].min())\n",
    "print(r[\"marks\"].sum())\n",
    "print(r[\"marks\"].count())\n",
    "print(r.sort_values(by='marks',ascending=True))"
   ]
  },
  {
   "cell_type": "code",
   "execution_count": null,
   "id": "c562a00f-adc3-4f0c-aa32-37e2eae51bf7",
   "metadata": {},
   "outputs": [],
   "source": []
  }
 ],
 "metadata": {
  "kernelspec": {
   "display_name": "Python 3 (ipykernel)",
   "language": "python",
   "name": "python3"
  },
  "language_info": {
   "codemirror_mode": {
    "name": "ipython",
    "version": 3
   },
   "file_extension": ".py",
   "mimetype": "text/x-python",
   "name": "python",
   "nbconvert_exporter": "python",
   "pygments_lexer": "ipython3",
   "version": "3.12.4"
  }
 },
 "nbformat": 4,
 "nbformat_minor": 5
}
