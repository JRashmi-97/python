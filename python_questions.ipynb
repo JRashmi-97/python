{
 "cells": [
  {
   "cell_type": "code",
   "execution_count": 23,
   "id": "16f39d71-7cd5-4aab-8cf2-19ecfe136e91",
   "metadata": {},
   "outputs": [
    {
     "name": "stdin",
     "output_type": "stream",
     "text": [
      "Enter first number:  11\n",
      "Enter second number:  12\n",
      "Enter third number:  23\n"
     ]
    },
    {
     "name": "stdout",
     "output_type": "stream",
     "text": [
      "The Largest Number is: 23\n"
     ]
    }
   ],
   "source": [
    "# question 1\n",
    "#Largest of three numbers\n",
    "a = int(input(\"Enter first number: \"))\n",
    "b = int(input(\"Enter second number: \"))\n",
    "c = int(input(\"Enter third number: \"))\n",
    "\n",
    "if a >= b and a >= c:\n",
    "    largest = a\n",
    "elif b >= a and b >= c:\n",
    "    largest = b\n",
    "else:\n",
    "    largest = c\n",
    "\n",
    "print(\"The Largest Number is:\", largest)"
   ]
  },
  {
   "cell_type": "code",
   "execution_count": 24,
   "id": "aaf9eb3b-0d4e-4ba7-b828-5cc417f1b58f",
   "metadata": {},
   "outputs": [
    {
     "name": "stdin",
     "output_type": "stream",
     "text": [
      "Enter a number:  23\n"
     ]
    },
    {
     "name": "stdout",
     "output_type": "stream",
     "text": [
      "The number is Odd.\n"
     ]
    }
   ],
   "source": [
    "# question 2\n",
    "# Number is even or odd\n",
    "num = int(input(\"Enter a number: \"))\n",
    "if num % 2 == 0:\n",
    "    print(\"The number is Even.\")\n",
    "else:\n",
    "    print(\"The number is Odd.\")"
   ]
  },
  {
   "cell_type": "code",
   "execution_count": 25,
   "id": "fbe177dd-ab7e-4a67-b121-b690a95cb70f",
   "metadata": {},
   "outputs": [
    {
     "name": "stdin",
     "output_type": "stream",
     "text": [
      "Enter a string:  hello\n"
     ]
    },
    {
     "name": "stdout",
     "output_type": "stream",
     "text": [
      "Reversed string is: olleh\n"
     ]
    }
   ],
   "source": [
    "# question 3\n",
    "# Input a String and Reverse it\n",
    "text = input(\"Enter a string: \")\n",
    "reverse = text[::-1]\n",
    "print(\"Reversed string is:\", reverse)"
   ]
  },
  {
   "cell_type": "code",
   "execution_count": 26,
   "id": "72f5df8f-325d-4cb2-bfe5-52fc115c3afa",
   "metadata": {},
   "outputs": [
    {
     "name": "stdin",
     "output_type": "stream",
     "text": [
      "Enter a string:  hello\n"
     ]
    },
    {
     "name": "stdout",
     "output_type": "stream",
     "text": [
      "Number of vowels: 2\n"
     ]
    }
   ],
   "source": [
    "# question 4\n",
    "# Count the no. of vowels in a String\n",
    "string = input(\"Enter a string: \")\n",
    "vowels = \"aeiouAEIOU\"\n",
    "count = 0\n",
    "for char in string:\n",
    "    if char in vowels:\n",
    "        count += 1\n",
    "print(\"Number of vowels:\", count)"
   ]
  },
  {
   "cell_type": "code",
   "execution_count": 27,
   "id": "24d1d945-1744-4abc-b2ad-29c760a4716d",
   "metadata": {},
   "outputs": [
    {
     "name": "stdin",
     "output_type": "stream",
     "text": [
      "Enter the 1st Number 12\n",
      "Enter the 2nd Number 23\n",
      "Enter Operator to perform +\n"
     ]
    },
    {
     "name": "stdout",
     "output_type": "stream",
     "text": [
      "The Sum is:  35\n"
     ]
    }
   ],
   "source": [
    "# question 5\n",
    "# Simple calculator Using if-else\n",
    "value1=int(input(\"Enter the 1st Number\"))\n",
    "value2=int(input(\"Enter the 2nd Number\"))\n",
    "expression=input(\"Enter Operator to perform\")\n",
    "if expression==\"+\":\n",
    "    print(\"The Sum is: \", value1+value2)\n",
    "elif expression==\"-\":\n",
    "    print(\"The Difference is: \", value1-value2)\n",
    "elif expression==\"*\":\n",
    "    print(\"The Product is: \", value1*value2)\n",
    "elif expression==\"/\":\n",
    "    print(\"The Division is: \", value1/value2)\n",
    "else:\n",
    "    print(\"Invalid Data\")"
   ]
  },
  {
   "cell_type": "code",
   "execution_count": 28,
   "id": "42990a66-00c3-4607-acc8-8aa7a17fa444",
   "metadata": {},
   "outputs": [
    {
     "name": "stdin",
     "output_type": "stream",
     "text": [
      "Enter a number:  12\n"
     ]
    },
    {
     "name": "stdout",
     "output_type": "stream",
     "text": [
      "Not a prime number.\n"
     ]
    }
   ],
   "source": [
    "# question 6\n",
    "# Check Number is Prime\n",
    "num = int(input(\"Enter a number: \"))\n",
    "if num <= 1:\n",
    "    print(\"Not a prime number.\")\n",
    "else:\n",
    "    for i in range(2, int(num**0.5)+1):\n",
    "        if num % i == 0:\n",
    "            print(\"Not a prime number.\")\n",
    "            break\n",
    "    else:\n",
    "        print(\"Prime number.\")"
   ]
  },
  {
   "cell_type": "code",
   "execution_count": 29,
   "id": "2f46cd5c-4b6c-4291-a7b2-c7c4b65f1edb",
   "metadata": {},
   "outputs": [
    {
     "name": "stdin",
     "output_type": "stream",
     "text": [
      "Enter a number:  23\n"
     ]
    },
    {
     "name": "stdout",
     "output_type": "stream",
     "text": [
      "23 x 1 = 23\n",
      "23 x 2 = 46\n",
      "23 x 3 = 69\n",
      "23 x 4 = 92\n",
      "23 x 5 = 115\n",
      "23 x 6 = 138\n",
      "23 x 7 = 161\n",
      "23 x 8 = 184\n",
      "23 x 9 = 207\n",
      "23 x 10 = 230\n"
     ]
    }
   ],
   "source": [
    "# question 7\n",
    "# Multiplication Table of a Given Number\n",
    "num = int(input(\"Enter a number: \"))\n",
    "for i in range(1, 11):\n",
    "    print(f\"{num} x {i} = {num * i}\")"
   ]
  },
  {
   "cell_type": "code",
   "execution_count": 30,
   "id": "481bf351-c1dd-417a-8188-7bdf25b0394b",
   "metadata": {},
   "outputs": [
    {
     "name": "stdin",
     "output_type": "stream",
     "text": [
      "Enter number of terms:  10\n"
     ]
    },
    {
     "name": "stdout",
     "output_type": "stream",
     "text": [
      "Fibonacci Series:\n",
      "0 1 1 2 3 5 8 13 21 34 "
     ]
    }
   ],
   "source": [
    "# question 8\n",
    "# Print Fibonacci Series upto n Terms\n",
    "n = int(input(\"Enter number of terms: \"))\n",
    "a, b = 0, 1\n",
    "print(\"Fibonacci Series:\")\n",
    "for _ in range(n):\n",
    "    print(a, end=' ')\n",
    "    a, b = b, a + b"
   ]
  },
  {
   "cell_type": "code",
   "execution_count": 31,
   "id": "5969dce6-fc31-45e7-9869-bb3f169c5a4e",
   "metadata": {},
   "outputs": [
    {
     "name": "stdin",
     "output_type": "stream",
     "text": [
      "Enter a number:  23\n"
     ]
    },
    {
     "name": "stdout",
     "output_type": "stream",
     "text": [
      "Factorial of 23 is 25852016738884976640000\n"
     ]
    }
   ],
   "source": [
    "# question 9\n",
    "#Find Factorial of a number using a loop\n",
    "num = int(input(\"Enter a number: \"))\n",
    "factorial = 1\n",
    "if num < 0:\n",
    "    print(\"Factorial not defined for negative numbers.\")\n",
    "else:\n",
    "    for i in range(1, num + 1):\n",
    "        factorial *= i\n",
    "    print(\"Factorial of\", num, \"is\", factorial)"
   ]
  },
  {
   "cell_type": "code",
   "execution_count": 32,
   "id": "f930f11e-8178-4b7b-95d4-84ee4f781efc",
   "metadata": {},
   "outputs": [
    {
     "name": "stdin",
     "output_type": "stream",
     "text": [
      "Enter a number:  234\n"
     ]
    },
    {
     "name": "stdout",
     "output_type": "stream",
     "text": [
      "The number is not a palindrome.\n"
     ]
    }
   ],
   "source": [
    "# question 10\n",
    "# Check weather a number is palindrome\n",
    "num = input(\"Enter a number: \")\n",
    "if num == num[::-1]:\n",
    "    print(\"The number is a palindrome.\")\n",
    "else:\n",
    "    print(\"The number is not a palindrome.\")"
   ]
  },
  {
   "cell_type": "code",
   "execution_count": 34,
   "id": "6a594820-f287-45e1-859c-7518179a79df",
   "metadata": {},
   "outputs": [
    {
     "name": "stdin",
     "output_type": "stream",
     "text": [
      "Enter a number:  22\n"
     ]
    },
    {
     "name": "stdout",
     "output_type": "stream",
     "text": [
      "Sum of digits is: 4\n"
     ]
    }
   ],
   "source": [
    "# question 11\n",
    "# Sum of Digits of a number using while loop\n",
    "num = int(input(\"Enter a number: \"))\n",
    "sum_digits = 0\n",
    "while num > 0:\n",
    "    sum_digits += num % 10\n",
    "    num //= 10\n",
    "print(\"Sum of digits is:\", sum_digits)"
   ]
  },
  {
   "cell_type": "code",
   "execution_count": 35,
   "id": "61979573-a39d-4527-9c28-e2651d301426",
   "metadata": {},
   "outputs": [
    {
     "name": "stdin",
     "output_type": "stream",
     "text": [
      "Enter temperature in Celsius:  99\n"
     ]
    },
    {
     "name": "stdout",
     "output_type": "stream",
     "text": [
      "Temperature in Fahrenheit: 210.2\n"
     ]
    }
   ],
   "source": [
    "# question 12\n",
    "# Convert Celsius to Fahrenheit\n",
    "celsius = float(input(\"Enter temperature in Celsius: \"))\n",
    "fahrenheit = (celsius * 9/5) + 32\n",
    "print(\"Temperature in Fahrenheit:\", fahrenheit)"
   ]
  },
  {
   "cell_type": "code",
   "execution_count": 36,
   "id": "53db86a9-b8ee-4b51-996e-088db4c5e587",
   "metadata": {},
   "outputs": [
    {
     "name": "stdout",
     "output_type": "stream",
     "text": [
      "Maximum is: 20\n"
     ]
    }
   ],
   "source": [
    "# question 13\n",
    "# Function to find maximum of two numbers\n",
    "def maximum(a, b):\n",
    "    if a > b:\n",
    "        return a\n",
    "    else:\n",
    "        return b\n",
    "print(\"Maximum is:\", maximum(10, 20))"
   ]
  },
  {
   "cell_type": "code",
   "execution_count": 37,
   "id": "2e8c04b0-d1c1-4942-931b-04c40693d342",
   "metadata": {},
   "outputs": [
    {
     "name": "stdin",
     "output_type": "stream",
     "text": [
      "Enter numbers separated by space:  1 23 45 67\n"
     ]
    },
    {
     "name": "stdout",
     "output_type": "stream",
     "text": [
      "Average is: 34.0\n"
     ]
    }
   ],
   "source": [
    "# question 14\n",
    "# Accept a list and return average\n",
    "numbers = list(map(float, input(\"Enter numbers separated by space: \").split()))\n",
    "average = sum(numbers) / len(numbers)\n",
    "print(\"Average is:\", average)"
   ]
  },
  {
   "cell_type": "code",
   "execution_count": 38,
   "id": "14c9e7de-e079-4810-80bd-f011a30229c6",
   "metadata": {},
   "outputs": [
    {
     "name": "stdin",
     "output_type": "stream",
     "text": [
      "Enter numbers:  23 45 65 34 57\n"
     ]
    },
    {
     "name": "stdout",
     "output_type": "stream",
     "text": [
      "Second largest number is: 57\n"
     ]
    }
   ],
   "source": [
    "# question 15\n",
    "# Find Second largest number in a list\n",
    "lst = list(map(int, input(\"Enter numbers: \").split()))\n",
    "unique_lst = list(set(lst))  # Remove duplicates\n",
    "unique_lst.sort()\n",
    "print(\"Second largest number is:\", unique_lst[-2])"
   ]
  },
  {
   "cell_type": "code",
   "execution_count": 39,
   "id": "120b90f9-e300-418a-99ec-dcd4d404af09",
   "metadata": {},
   "outputs": [
    {
     "name": "stdin",
     "output_type": "stream",
     "text": [
      "Enter a sentence:  hi i am a human\n"
     ]
    },
    {
     "name": "stdout",
     "output_type": "stream",
     "text": [
      "Number of words: 5\n"
     ]
    }
   ],
   "source": [
    "# question 16\n",
    "# Count Number of Words in a Sentence\n",
    "sentence = input(\"Enter a sentence: \")\n",
    "words = sentence.split()\n",
    "print(\"Number of words:\", len(words))"
   ]
  },
  {
   "cell_type": "code",
   "execution_count": 40,
   "id": "c4ad7877-a19a-4e39-b48f-0ca0516452c9",
   "metadata": {},
   "outputs": [
    {
     "name": "stdin",
     "output_type": "stream",
     "text": [
      "Enter numbers:  1 12 1 23 33 44 56 56 56\n"
     ]
    },
    {
     "name": "stdout",
     "output_type": "stream",
     "text": [
      "List without duplicates: [1, 33, 12, 44, 23, 56]\n"
     ]
    }
   ],
   "source": [
    "# question 17\n",
    "# Remove duplicates from a list\n",
    "lst = list(map(int, input(\"Enter numbers: \").split()))\n",
    "no_duplicates = list(set(lst))\n",
    "print(\"List without duplicates:\", no_duplicates)"
   ]
  },
  {
   "cell_type": "code",
   "execution_count": 41,
   "id": "2a67720a-d407-4a3f-838b-d3c2be437285",
   "metadata": {},
   "outputs": [
    {
     "name": "stdin",
     "output_type": "stream",
     "text": [
      "Enter keys separated by space:  a b c d e f g\n",
      "Enter values separated by space:  aa bb cc dd ee ff gg\n"
     ]
    },
    {
     "name": "stdout",
     "output_type": "stream",
     "text": [
      "Created dictionary: {'a': 'aa', 'b': 'bb', 'c': 'cc', 'd': 'dd', 'e': 'ee', 'f': 'ff', 'g': 'gg'}\n"
     ]
    }
   ],
   "source": [
    "# question 18\n",
    "# Create Dictionary from two lists\n",
    "keys = input(\"Enter keys separated by space: \").split()\n",
    "values = input(\"Enter values separated by space: \").split()\n",
    "dictionary = dict(zip(keys, values))\n",
    "print(\"Created dictionary:\", dictionary)"
   ]
  },
  {
   "cell_type": "code",
   "execution_count": 42,
   "id": "6267e515-c61e-47e6-b27e-70ecb2f56134",
   "metadata": {},
   "outputs": [
    {
     "name": "stdin",
     "output_type": "stream",
     "text": [
      "Enter numbers:  23 23 24 25\n"
     ]
    },
    {
     "name": "stdout",
     "output_type": "stream",
     "text": [
      "Sorted list: [23, 23, 24, 25]\n"
     ]
    }
   ],
   "source": [
    "# question 19\n",
    "# Sort List without using sort() function\n",
    "lst = list(map(int, input(\"Enter numbers: \").split()))\n",
    "# Bubble sort\n",
    "for i in range(len(lst)):\n",
    "    for j in range(i + 1, len(lst)):\n",
    "        if lst[i] > lst[j]:\n",
    "            lst[i], lst[j] = lst[j], lst[i]\n",
    "print(\"Sorted list:\", lst)"
   ]
  },
  {
   "cell_type": "code",
   "execution_count": 43,
   "id": "7952623e-91be-4b7e-9118-87ed9de6ccbb",
   "metadata": {},
   "outputs": [
    {
     "name": "stdin",
     "output_type": "stream",
     "text": [
      "Enter a sentence:  hello today is monday\n"
     ]
    },
    {
     "name": "stdout",
     "output_type": "stream",
     "text": [
      "Is pangram? False\n"
     ]
    }
   ],
   "source": [
    "# question 20\n",
    "# Function to check if a string is Pangram\n",
    "def is_pangram(s):\n",
    "    alphabet = set(\"abcdefghijklmnopqrstuvwxyz\")\n",
    "    return alphabet <= set(s.lower())\n",
    "text = input(\"Enter a sentence: \")\n",
    "print(\"Is pangram?\", is_pangram(text))"
   ]
  },
  {
   "cell_type": "code",
   "execution_count": 44,
   "id": "38a927e8-b307-4bda-a574-cb894d67e691",
   "metadata": {},
   "outputs": [
    {
     "name": "stdin",
     "output_type": "stream",
     "text": [
      "Enter something:  24.5\n"
     ]
    },
    {
     "name": "stdout",
     "output_type": "stream",
     "text": [
      "Is number? True\n"
     ]
    }
   ],
   "source": [
    "# question 21\n",
    "# Check if Input is a number\n",
    "def is_number(s):\n",
    "    try:\n",
    "        float(s)\n",
    "        return True\n",
    "    except ValueError:\n",
    "        return False\n",
    "s = input(\"Enter something: \")\n",
    "print(\"Is number?\", is_number(s))"
   ]
  },
  {
   "cell_type": "code",
   "execution_count": 45,
   "id": "9f8f5138-a730-40b1-8898-cec0bee83b85",
   "metadata": {},
   "outputs": [
    {
     "name": "stdin",
     "output_type": "stream",
     "text": [
      "Enter first string:  hello\n",
      "Enter second string:  world\n"
     ]
    },
    {
     "name": "stdout",
     "output_type": "stream",
     "text": [
      "Are anagrams? False\n"
     ]
    }
   ],
   "source": [
    "# question 22\n",
    "# Check if two strings are Anagrams\n",
    "def is_anagram(str1, str2):\n",
    "    return sorted(str1.lower()) == sorted(str2.lower())\n",
    "s1 = input(\"Enter first string: \")\n",
    "s2 = input(\"Enter second string: \")\n",
    "print(\"Are anagrams?\", is_anagram(s1, s2))"
   ]
  },
  {
   "cell_type": "code",
   "execution_count": 46,
   "id": "96b99198-c4e9-47a4-be96-268cd0c0d2be",
   "metadata": {},
   "outputs": [
    {
     "name": "stdin",
     "output_type": "stream",
     "text": [
      "Enter a number:  45\n"
     ]
    },
    {
     "name": "stdout",
     "output_type": "stream",
     "text": [
      "Binary: 0b101101\n",
      "Octal: 0o55\n",
      "Hexadecimal: 0x2d\n"
     ]
    }
   ],
   "source": [
    "# question 23\n",
    "# Print Binary, Octal and Hexadecimal of a Number\n",
    "num = int(input(\"Enter a number: \"))\n",
    "print(\"Binary:\", bin(num))\n",
    "print(\"Octal:\", oct(num))\n",
    "print(\"Hexadecimal:\", hex(num))"
   ]
  },
  {
   "cell_type": "code",
   "execution_count": 47,
   "id": "8dcb20ce-ccfb-4f5e-8719-b15a1d64f526",
   "metadata": {},
   "outputs": [
    {
     "name": "stdin",
     "output_type": "stream",
     "text": [
      "Enter numbers:  12\n"
     ]
    },
    {
     "name": "stdout",
     "output_type": "stream",
     "text": [
      "Numbers greater than 50: []\n"
     ]
    }
   ],
   "source": [
    "# question 24\n",
    "# Print Elements Greater than 50 in a list\n",
    "lst = list(map(int, input(\"Enter numbers: \").split()))\n",
    "greater_than_50 = [x for x in lst if x > 50]\n",
    "print(\"Numbers greater than 50:\", greater_than_50)"
   ]
  },
  {
   "cell_type": "code",
   "execution_count": 48,
   "id": "8551aebd-c796-4d93-8a01-3979276cc864",
   "metadata": {},
   "outputs": [
    {
     "name": "stdin",
     "output_type": "stream",
     "text": [
      "Enter a string:  hello\n"
     ]
    },
    {
     "name": "stdout",
     "output_type": "stream",
     "text": [
      "Uppercase letters: 0\n",
      "Lowercase letters: 5\n"
     ]
    }
   ],
   "source": [
    "# question 25\n",
    "# Count Uppercase and Lowercase Letters in a String\n",
    "def count_case(s):\n",
    "    upper = lower = 0\n",
    "    for char in s:\n",
    "        if char.isupper():\n",
    "            upper += 1\n",
    "        elif char.islower():\n",
    "            lower += 1\n",
    "    return upper, lower\n",
    "text = input(\"Enter a string: \")\n",
    "u, l = count_case(text)\n",
    "print(\"Uppercase letters:\", u)\n",
    "print(\"Lowercase letters:\", l)"
   ]
  },
  {
   "cell_type": "code",
   "execution_count": 1,
   "id": "80c3d183-1437-4a2a-a7f8-d2c1425c30d1",
   "metadata": {},
   "outputs": [
    {
     "name": "stdout",
     "output_type": "stream",
     "text": [
      "Squared List: [1, 4, 9, 16, 25]\n"
     ]
    }
   ],
   "source": [
    "# question 26\n",
    "numbers = [1, 2, 3, 4, 5]\n",
    "squared = list(map(lambda x: x**2, numbers))\n",
    "print(\"Squared List:\", squared)"
   ]
  },
  {
   "cell_type": "code",
   "execution_count": 2,
   "id": "dd0deb47-a622-41f9-baa0-09ecf9d75279",
   "metadata": {},
   "outputs": [
    {
     "name": "stdout",
     "output_type": "stream",
     "text": [
      "Prime numbers from 1 to 100: [2, 3, 5, 7, 11, 13, 17, 19, 23, 29, 31, 37, 41, 43, 47, 53, 59, 61, 67, 71, 73, 79, 83, 89, 97]\n"
     ]
    }
   ],
   "source": [
    "#question 27\n",
    "def is_prime(n):\n",
    "    if n < 2:\n",
    "        return False\n",
    "    for i in range(2, int(n**0.5)+1):\n",
    "        if n % i == 0:\n",
    "            return False\n",
    "    return True\n",
    "\n",
    "def prime_list():\n",
    "    return [x for x in range(1, 101) if is_prime(x)]\n",
    "\n",
    "print(\"Prime numbers from 1 to 100:\", prime_list())\n"
   ]
  },
  {
   "cell_type": "code",
   "execution_count": 3,
   "id": "eca2a36b-2eda-47c0-b9d2-f799aa476764",
   "metadata": {},
   "outputs": [
    {
     "name": "stdin",
     "output_type": "stream",
     "text": [
      "Enter first number:  20\n",
      "Enter second number:  23\n",
      "Enter operation (+, -, *, /):  +\n"
     ]
    },
    {
     "name": "stdout",
     "output_type": "stream",
     "text": [
      "Result: 43.0\n"
     ]
    }
   ],
   "source": [
    "#question 28\n",
    "def add(x, y):\n",
    "    return x + y\n",
    "def subtract(x, y):\n",
    "    return x - y\n",
    "def multiply(x, y):\n",
    "    return x * y\n",
    "def divide(x, y):\n",
    "    return x / y if y != 0 else \"Cannot divide by zero\"\n",
    "a = float(input(\"Enter first number: \"))\n",
    "b = float(input(\"Enter second number: \"))\n",
    "op = input(\"Enter operation (+, -, *, /): \")\n",
    "if op == '+':\n",
    "    print(\"Result:\", add(a, b))\n",
    "elif op == '-':\n",
    "    print(\"Result:\", subtract(a, b))\n",
    "elif op == '*':\n",
    "    print(\"Result:\", multiply(a, b))\n",
    "elif op == '/':\n",
    "    print(\"Result:\", divide(a, b))\n",
    "else:\n",
    "    print(\"Invalid operation\")\n"
   ]
  },
  {
   "cell_type": "code",
   "execution_count": 4,
   "id": "165cbad1-e8cb-406e-84e5-0d622ff38916",
   "metadata": {},
   "outputs": [
    {
     "name": "stdin",
     "output_type": "stream",
     "text": [
      "Enter a number:  11\n"
     ]
    },
    {
     "name": "stdout",
     "output_type": "stream",
     "text": [
      "Factorial of 11 is 39916800\n"
     ]
    }
   ],
   "source": [
    "#question 29\n",
    "def factorial(n):\n",
    "    if n == 0 or n == 1:\n",
    "        return 1\n",
    "    return n * factorial(n - 1)\n",
    "\n",
    "# Example usage\n",
    "num = int(input(\"Enter a number: \"))\n",
    "print(\"Factorial of\", num, \"is\", factorial(num))"
   ]
  },
  {
   "cell_type": "code",
   "execution_count": 5,
   "id": "f4a72552-a3a7-4ba2-aad0-1e27b97f6db3",
   "metadata": {},
   "outputs": [
    {
     "name": "stdout",
     "output_type": "stream",
     "text": [
      "Name: Riya\n",
      "Roll Number: 101\n"
     ]
    }
   ],
   "source": [
    "#question 30\n",
    "class Student:\n",
    "    def __init__(self, name, roll):\n",
    "        self.name = name\n",
    "        self.roll = roll\n",
    "\n",
    "    def display(self):\n",
    "        print(\"Name:\", self.name)\n",
    "        print(\"Roll Number:\", self.roll)\n",
    "\n",
    "# Example usage\n",
    "student1 = Student(\"Riya\", 101)\n",
    "student1.display()"
   ]
  },
  {
   "cell_type": "code",
   "execution_count": 6,
   "id": "76856974-fc81-4fbd-b750-d9a7535244b0",
   "metadata": {},
   "outputs": [
    {
     "name": "stdout",
     "output_type": "stream",
     "text": [
      "Function completed.\n",
      "Execution time: 2.000596761703491 seconds\n"
     ]
    }
   ],
   "source": [
    "#question 31\n",
    "import time\n",
    "def timer(func):\n",
    "    def wrapper():\n",
    "        start = time.time()\n",
    "        func()\n",
    "        end = time.time()\n",
    "        print(\"Execution time:\", end - start, \"seconds\")\n",
    "    return wrapper\n",
    "@timer\n",
    "def slow_function():\n",
    "    time.sleep(2)\n",
    "    print(\"Function completed.\")\n",
    "# Example usage\n",
    "slow_function()"
   ]
  },
  {
   "cell_type": "code",
   "execution_count": 7,
   "id": "9a0ac0ad-6956-4f4e-929c-911900f8e733",
   "metadata": {},
   "outputs": [
    {
     "name": "stdout",
     "output_type": "stream",
     "text": [
      "Deposited ₹500. New balance: ₹1500\n",
      "Withdrew ₹300. New balance: ₹1200\n"
     ]
    }
   ],
   "source": [
    "#question 32\n",
    "class BankAccount:\n",
    "    def __init__(self, owner, balance=0):\n",
    "        self.owner = owner\n",
    "        self.balance = balance\n",
    "    def deposit(self, amount):\n",
    "        self.balance += amount\n",
    "        print(f\"Deposited ₹{amount}. New balance: ₹{self.balance}\")\n",
    "    def withdraw(self, amount):\n",
    "        if amount > self.balance:\n",
    "            print(\"Insufficient balance!\")\n",
    "        else:\n",
    "            self.balance -= amount\n",
    "            print(f\"Withdrew ₹{amount}. New balance: ₹{self.balance}\")\n",
    "# Example usage\n",
    "account = BankAccount(\"Riya\", 1000)\n",
    "account.deposit(500)\n",
    "account.withdraw(300)"
   ]
  },
  {
   "cell_type": "code",
   "execution_count": 8,
   "id": "c1b1df63-2384-4c11-a7d2-a515544a5973",
   "metadata": {},
   "outputs": [
    {
     "name": "stdout",
     "output_type": "stream",
     "text": [
      "2 4 6 8 10 "
     ]
    }
   ],
   "source": [
    "#question 33\n",
    "def even_numbers(n):\n",
    "    for i in range(1, n+1):\n",
    "        if i % 2 == 0:\n",
    "            yield i\n",
    "# Example usage\n",
    "for num in even_numbers(10):\n",
    "    print(num, end=' ')"
   ]
  },
  {
   "cell_type": "code",
   "execution_count": 9,
   "id": "f198687c-cc56-48f0-95e0-b8ca39c3f4f0",
   "metadata": {},
   "outputs": [
    {
     "name": "stdout",
     "output_type": "stream",
     "text": [
      "Positional arguments:\n",
      "10\n",
      "20\n",
      "30\n",
      "\n",
      "Keyword arguments:\n",
      "name = Riya\n",
      "age = 18\n"
     ]
    }
   ],
   "source": [
    "#question 34\n",
    "def print_all(*args, **kwargs):\n",
    "    print(\"Positional arguments:\")\n",
    "    for arg in args:\n",
    "        print(arg)\n",
    "    print(\"\\nKeyword arguments:\")\n",
    "    for key, value in kwargs.items():\n",
    "        print(f\"{key} = {value}\")\n",
    "# Example usage\n",
    "print_all(10, 20, 30, name=\"Riya\", age=18)"
   ]
  },
  {
   "cell_type": "code",
   "execution_count": 10,
   "id": "dcf5d053-cfd2-4353-bb32-92fd76c8d430",
   "metadata": {},
   "outputs": [
    {
     "name": "stdout",
     "output_type": "stream",
     "text": [
      "Squares of even numbers from 1 to 20: [4, 16, 36, 64, 100, 144, 196, 256, 324, 400]\n"
     ]
    }
   ],
   "source": [
    "#question 35\n",
    "squares = [x**2 for x in range(1, 21) if x % 2 == 0]\n",
    "print(\"Squares of even numbers from 1 to 20:\", squares)"
   ]
  },
  {
   "cell_type": "code",
   "execution_count": 11,
   "id": "db8e56f5-65e2-492b-b6b7-364f215fe2b1",
   "metadata": {},
   "outputs": [
    {
     "name": "stdout",
     "output_type": "stream",
     "text": [
      "Unique elements: [1, 2, 3, 4, 5]\n"
     ]
    }
   ],
   "source": [
    "#question 36\n",
    "def get_unique_elements(lst):\n",
    "    return list(set(lst))\n",
    "# Example usage\n",
    "my_list = [1, 2, 2, 3, 4, 4, 5]\n",
    "unique = get_unique_elements(my_list)\n",
    "print(\"Unique elements:\", unique)"
   ]
  },
  {
   "cell_type": "code",
   "execution_count": 12,
   "id": "d7ff1c7f-c3b9-49fb-8e1a-910c52dc4a6d",
   "metadata": {},
   "outputs": [
    {
     "name": "stdout",
     "output_type": "stream",
     "text": [
      "Merged Dictionary: {'a': 1, 'b': 2, 'c': 3, 'd': 4}\n"
     ]
    }
   ],
   "source": [
    "#question 37\n",
    "dict1 = {'a': 1, 'b': 2}\n",
    "dict2 = {'c': 3, 'd': 4}\n",
    "# Merge using unpacking\n",
    "merged_dict = {**dict1, **dict2}\n",
    "print(\"Merged Dictionary:\", merged_dict)"
   ]
  },
  {
   "cell_type": "code",
   "execution_count": 13,
   "id": "ca28ab5d-a8fc-46d6-b1c0-6aa2cf2f6b67",
   "metadata": {},
   "outputs": [
    {
     "name": "stdout",
     "output_type": "stream",
     "text": [
      "Animal speaks\n",
      "Dog barks\n"
     ]
    }
   ],
   "source": [
    "#question 38\n",
    "class Animal:\n",
    "    def speak(self):\n",
    "        print(\"Animal speaks\")\n",
    "class Dog(Animal):\n",
    "    def speak(self):\n",
    "        print(\"Dog barks\")\n",
    "# Example usage\n",
    "a = Animal()\n",
    "d = Dog()\n",
    "a.speak()  # Animal speaks\n",
    "d.speak()  # Dog barks"
   ]
  },
  {
   "cell_type": "code",
   "execution_count": 14,
   "id": "3b6af392-a32b-4a1c-b3e8-8c6dd436b9f9",
   "metadata": {},
   "outputs": [
    {
     "name": "stdout",
     "output_type": "stream",
     "text": [
      "Common elements: [4, 5]\n"
     ]
    }
   ],
   "source": [
    "#question 39\n",
    "def find_common(list1, list2):\n",
    "    return list(set(list1) & set(list2))\n",
    "# Example usage\n",
    "a = [1, 2, 3, 4, 5]\n",
    "b = [4, 5, 6, 7, 8]\n",
    "print(\"Common elements:\", find_common(a, b))"
   ]
  },
  {
   "cell_type": "code",
   "execution_count": 15,
   "id": "d5bde109-27e7-4af5-8c19-bc8f4bfd40f3",
   "metadata": {},
   "outputs": [
    {
     "name": "stdin",
     "output_type": "stream",
     "text": [
      "Enter a number:  22\n"
     ]
    },
    {
     "name": "stdout",
     "output_type": "stream",
     "text": [
      "Result: 0.45454545454545453\n",
      "This block always runs.\n"
     ]
    }
   ],
   "source": [
    "#question 42\n",
    "try:\n",
    "    num = int(input(\"Enter a number: \"))\n",
    "    result = 10 / num\n",
    "    print(\"Result:\", result)\n",
    "except ZeroDivisionError:\n",
    "    print(\"Error: Cannot divide by zero!\")\n",
    "except ValueError:\n",
    "    print(\"Error: Please enter a valid number!\")\n",
    "finally:\n",
    "    print(\"This block always runs.\")"
   ]
  },
  {
   "cell_type": "code",
   "execution_count": 16,
   "id": "c63660b3-2797-40c9-8b43-f6e3532297a3",
   "metadata": {},
   "outputs": [
    {
     "name": "stdout",
     "output_type": "stream",
     "text": [
      "Name: Riya\n",
      "Age: 18\n",
      "City: Delhi\n"
     ]
    }
   ],
   "source": [
    "#question 43\n",
    "import json\n",
    "data = '{\"name\": \"Riya\", \"age\": 18, \"city\": \"Delhi\"}'\n",
    "# Parse JSON string to dictionary\n",
    "parsed_data = json.loads(data)\n",
    "# Display values\n",
    "print(\"Name:\", parsed_data[\"name\"])\n",
    "print(\"Age:\", parsed_data[\"age\"])\n",
    "print(\"City:\", parsed_data[\"city\"])\n"
   ]
  },
  {
   "cell_type": "code",
   "execution_count": 17,
   "id": "f3ecd98f-434d-478a-a5ce-6774d9bcf432",
   "metadata": {},
   "outputs": [
    {
     "name": "stdout",
     "output_type": "stream",
     "text": [
      "Name: Riya\n",
      "Marks: 95\n",
      "Accessing protected: Riya\n",
      "Accessing private using _Student__marks: 95\n"
     ]
    }
   ],
   "source": [
    "#question 44\n",
    "class Student:\n",
    "    def __init__(self, name, marks):\n",
    "        self._name = name       # Protected member\n",
    "        self.__marks = marks    # Private member\n",
    "\n",
    "    def show_details(self):\n",
    "        print(\"Name:\", self._name)\n",
    "        print(\"Marks:\", self.__marks)\n",
    "# Example usage\n",
    "s = Student(\"Riya\", 95)\n",
    "s.show_details()\n",
    "# Accessing protected member (possible, but not recommended)\n",
    "print(\"Accessing protected:\", s._name)\n",
    "# Accessing private member (not directly allowed)\n",
    "# print(s.__marks)  #  Error\n",
    "# Accessing private member correctly:\n",
    "print(\"Accessing private using _Student__marks:\", s._Student__marks)"
   ]
  },
  {
   "cell_type": "code",
   "execution_count": 18,
   "id": "24567409-96ee-4af1-9329-c13cc70035f6",
   "metadata": {},
   "outputs": [
    {
     "name": "stdin",
     "output_type": "stream",
     "text": [
      "Enter an email:  riya0666@gmail.com\n"
     ]
    },
    {
     "name": "stdout",
     "output_type": "stream",
     "text": [
      "Valid email\n"
     ]
    }
   ],
   "source": [
    "#question 45\n",
    "import re\n",
    "def is_valid_email(email):\n",
    "    pattern = r'^[\\w\\.-]+@[\\w\\.-]+\\.\\w+$'\n",
    "    return re.match(pattern, email) is not None\n",
    "# Example usage\n",
    "email = input(\"Enter an email: \")\n",
    "if is_valid_email(email):\n",
    "    print(\"Valid email\")\n",
    "else:\n",
    "    print(\"Invalid email\")"
   ]
  },
  {
   "cell_type": "code",
   "execution_count": 19,
   "id": "b264fe47-02a5-4b06-bb8e-2fcf4bbb6a55",
   "metadata": {},
   "outputs": [
    {
     "name": "stdin",
     "output_type": "stream",
     "text": [
      "Enter username:  riya_011\n",
      "Enter password:  123456789\n"
     ]
    },
    {
     "name": "stdout",
     "output_type": "stream",
     "text": [
      "Invalid username or password.\n"
     ]
    }
   ],
   "source": [
    "#question 46\n",
    "# Sample users\n",
    "users = {\n",
    "    \"riya\": \"1234\",\n",
    "    \"amit\": \"pass123\",\n",
    "    \"sneha\": \"hello\"\n",
    "}\n",
    "def login():\n",
    "    username = input(\"Enter username: \")\n",
    "    password = input(\"Enter password: \")\n",
    "    if username in users and users[username] == password:\n",
    "        print(\"Login successful!\")\n",
    "    else:\n",
    "        print(\"Invalid username or password.\")\n",
    "# Example usage\n",
    "login()"
   ]
  },
  {
   "cell_type": "code",
   "execution_count": 20,
   "id": "9bccd8e3-ec53-4f6e-825c-7321fb2c5495",
   "metadata": {},
   "outputs": [
    {
     "name": "stdout",
     "output_type": "stream",
     "text": [
      "Flattened list: [1, 2, 3, 4, 5, 6]\n"
     ]
    }
   ],
   "source": [
    "#question 47\n",
    "def flatten_list(nested):\n",
    "    flat = []\n",
    "    for item in nested:\n",
    "        if isinstance(item, list):\n",
    "            flat.extend(flatten_list(item))  # Recursive call\n",
    "        else:\n",
    "            flat.append(item)\n",
    "    return flat\n",
    "# Example usage\n",
    "nested_list = [1, [2, [3, 4], 5], 6]\n",
    "flat = flatten_list(nested_list)\n",
    "print(\"Flattened list:\", flat)"
   ]
  },
  {
   "cell_type": "code",
   "execution_count": 21,
   "id": "a88f3f74-2721-4b87-b679-2274db337da1",
   "metadata": {},
   "outputs": [
    {
     "name": "stdout",
     "output_type": "stream",
     "text": [
      "Squares: [1, 4, 9, 16, 25, 36]\n",
      "Even numbers: [2, 4, 6]\n",
      "Product: 720\n"
     ]
    }
   ],
   "source": [
    "#question 48\n",
    "from functools import reduce\n",
    "numbers = [1, 2, 3, 4, 5, 6]\n",
    "# map(): square each number\n",
    "squares = list(map(lambda x: x**2, numbers))\n",
    "print(\"Squares:\", squares)\n",
    "# filter(): keep even numbers\n",
    "evens = list(filter(lambda x: x % 2 == 0, numbers))\n",
    "print(\"Even numbers:\", evens)\n",
    "# reduce(): multiply all numbers\n",
    "product = reduce(lambda x, y: x * y, numbers)\n",
    "print(\"Product:\", product)"
   ]
  },
  {
   "cell_type": "code",
   "execution_count": 22,
   "id": "ac62d765-b0a0-4cda-9d77-437651d73e98",
   "metadata": {},
   "outputs": [
    {
     "name": "stdout",
     "output_type": "stream",
     "text": [
      "Simple CLI Calculator\n",
      "Operations: add, subtract, multiply, divide\n"
     ]
    },
    {
     "name": "stdin",
     "output_type": "stream",
     "text": [
      "Enter operation:  add\n",
      "Enter first number:  11\n",
      "Enter second number:  11\n"
     ]
    },
    {
     "name": "stdout",
     "output_type": "stream",
     "text": [
      "Result: 22.0\n"
     ]
    }
   ],
   "source": [
    "#question 49\n",
    "def cli_app():\n",
    "    print(\"Simple CLI Calculator\")\n",
    "    print(\"Operations: add, subtract, multiply, divide\")\n",
    "    op = input(\"Enter operation: \").lower()\n",
    "    a = float(input(\"Enter first number: \"))\n",
    "    b = float(input(\"Enter second number: \"))\n",
    "    if op == \"add\":\n",
    "        print(\"Result:\", a + b)\n",
    "    elif op == \"subtract\":\n",
    "        print(\"Result:\", a - b)\n",
    "    elif op == \"multiply\":\n",
    "        print(\"Result:\", a * b)\n",
    "    elif op == \"divide\":\n",
    "        if b != 0:\n",
    "            print(\"Result:\", a / b)\n",
    "        else:\n",
    "            print(\"Cannot divide by zero.\")\n",
    "    else:\n",
    "        print(\"Invalid operation.\")\n",
    "# Run the app\n",
    "cli_app()"
   ]
  },
  {
   "cell_type": "code",
   "execution_count": null,
   "id": "f55c51a1-fa72-4cb2-817f-4d2fd394c6ea",
   "metadata": {},
   "outputs": [],
   "source": []
  }
 ],
 "metadata": {
  "kernelspec": {
   "display_name": "Python 3 (ipykernel)",
   "language": "python",
   "name": "python3"
  },
  "language_info": {
   "codemirror_mode": {
    "name": "ipython",
    "version": 3
   },
   "file_extension": ".py",
   "mimetype": "text/x-python",
   "name": "python",
   "nbconvert_exporter": "python",
   "pygments_lexer": "ipython3",
   "version": "3.12.4"
  }
 },
 "nbformat": 4,
 "nbformat_minor": 5
}
