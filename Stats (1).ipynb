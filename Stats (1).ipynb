{
 "cells": [
  {
   "cell_type": "code",
   "execution_count": 14,
   "id": "15af0416-fbd2-40fc-b0d2-4676df51cbd0",
   "metadata": {},
   "outputs": [
    {
     "name": "stdout",
     "output_type": "stream",
     "text": [
      "Mean: 67.0\n",
      "Median: 66.0\n",
      "Variance: 279.1111111111111\n",
      "Standard Deviation: 16.706618781522224\n"
     ]
    }
   ],
   "source": [
    "import pandas as pd\n",
    "rt=pd.read_csv(r\"C:\\Users\\Student\\Desktop\\MARKS.csv\")\n",
    "Mean=rt[\"MARKS\"].mean()\n",
    "print(f\"Mean: {Mean}\")\n",
    "Median=rt[\"MARKS\"].median()\n",
    "print(f\"Median: {Median}\")\n",
    "Mode=rt[\"MARKS\"].mode()\n",
    "print(f\"Mode: {Mode}\")\n",
    "Variance=rt[\"MARKS\"].var()\n",
    "print(f\"Variance: {Variance}\")\n",
    "SD=rt[\"MARKS\"].std()\n",
    "print(f\"Standard Deviation: {SD}\")"
   ]
  },
  {
   "cell_type": "code",
   "execution_count": null,
   "id": "619bc72c-645e-457c-b2a2-ad31c50e2f34",
   "metadata": {},
   "outputs": [],
   "source": []
  }
 ],
 "metadata": {
  "kernelspec": {
   "display_name": "Python 3 (ipykernel)",
   "language": "python",
   "name": "python3"
  },
  "language_info": {
   "codemirror_mode": {
    "name": "ipython",
    "version": 3
   },
   "file_extension": ".py",
   "mimetype": "text/x-python",
   "name": "python",
   "nbconvert_exporter": "python",
   "pygments_lexer": "ipython3",
   "version": "3.12.4"
  }
 },
 "nbformat": 4,
 "nbformat_minor": 5
}
