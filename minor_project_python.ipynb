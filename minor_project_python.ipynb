{
 "cells": [
  {
   "cell_type": "code",
   "execution_count": 6,
   "id": "e76a4648-6e6b-4129-98dc-f3f74367d24d",
   "metadata": {},
   "outputs": [
    {
     "name": "stdout",
     "output_type": "stream",
     "text": [
      "\t\t\t\t\t\t--login system --\n"
     ]
    },
    {
     "name": "stdin",
     "output_type": "stream",
     "text": [
      "enter your password 456\n"
     ]
    },
    {
     "name": "stdout",
     "output_type": "stream",
     "text": [
      "welcome in system\n",
      "end of execution\n"
     ]
    }
   ],
   "source": [
    "#simple login system(with 3 attempt)\n",
    "print(\"\\t\\t\\t\\t\\t\\t--login system --\")\n",
    "count=1\n",
    "password = int(input(\"enter your password\"))\n",
    "while count<=2:\n",
    "    if password==456:\n",
    "        print(\"welcome in system\")\n",
    "        break\n",
    "    else:\n",
    "        print (\"try again\")\n",
    "        password = int(input())\n",
    "        \n",
    "print(\"end of execution\")\n",
    "        \n"
   ]
  },
  {
   "cell_type": "code",
   "execution_count": 25,
   "id": "fdfc9144-4257-44f0-bcef-20653be64779",
   "metadata": {},
   "outputs": [
    {
     "name": "stdout",
     "output_type": "stream",
     "text": [
      "\t\t\t\t\t\t\t--Bus Ticket System--\n"
     ]
    },
    {
     "name": "stdin",
     "output_type": "stream",
     "text": [
      "enter ticket price: 85\n"
     ]
    },
    {
     "name": "stdout",
     "output_type": "stream",
     "text": [
      "ticket price 85\n"
     ]
    },
    {
     "name": "stdin",
     "output_type": "stream",
     "text": [
      "enter your age  14\n"
     ]
    },
    {
     "name": "stdout",
     "output_type": "stream",
     "text": [
      "ticktet: 59.5\n"
     ]
    }
   ],
   "source": [
    "# bus ticket calculater\n",
    "print(\"\\t\\t\\t\\t\\t\\t\\t--Bus Ticket System--\")\n",
    "ticket=int(input(\"enter ticket price:\"))\n",
    "print (\"ticket price\",ticket) \n",
    "age=int(input(\"enter your age \"))\n",
    "if age<=5:\n",
    "    print(\"the passenger is minor\")\n",
    "elif age>5 and age<=18:\n",
    "    a= 0.3 * ticket\n",
    "    print('ticktet:',ticket-a)\n",
    "elif age>18 and age<=60:\n",
    "    a= 0.1 * ticket\n",
    "    print('ticktet:',ticket-a)\n",
    "elif age>60 and age<=100:\n",
    "    a= 0.4 * ticket\n",
    "    print('ticktet:',ticket-a)\n",
    "else: \n",
    "    print(\"invalid age\")\n",
    "    "
   ]
  },
  {
   "cell_type": "code",
   "execution_count": null,
   "id": "39a5ee97-b828-4d27-9836-ec6a48ed1726",
   "metadata": {},
   "outputs": [],
   "source": []
  },
  {
   "cell_type": "code",
   "execution_count": null,
   "id": "30e952ad-444d-4489-bd51-90f40d682f69",
   "metadata": {},
   "outputs": [],
   "source": []
  },
  {
   "cell_type": "code",
   "execution_count": null,
   "id": "c2fc0651-288c-45a7-bdfd-f560e89e9aa3",
   "metadata": {},
   "outputs": [],
   "source": []
  },
  {
   "cell_type": "code",
   "execution_count": null,
   "id": "a51719ad-7086-49d1-8d5b-b74323efff01",
   "metadata": {},
   "outputs": [],
   "source": []
  }
 ],
 "metadata": {
  "kernelspec": {
   "display_name": "Python 3 (ipykernel)",
   "language": "python",
   "name": "python3"
  },
  "language_info": {
   "codemirror_mode": {
    "name": "ipython",
    "version": 3
   },
   "file_extension": ".py",
   "mimetype": "text/x-python",
   "name": "python",
   "nbconvert_exporter": "python",
   "pygments_lexer": "ipython3",
   "version": "3.12.4"
  }
 },
 "nbformat": 4,
 "nbformat_minor": 5
}
