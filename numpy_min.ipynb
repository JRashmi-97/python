{
 "cells": [
  {
   "cell_type": "code",
   "execution_count": 19,
   "id": "e17adc92-fdc8-4d46-83d5-0a18ea4f874d",
   "metadata": {},
   "outputs": [
    {
     "name": "stdout",
     "output_type": "stream",
     "text": [
      "[ 5 12 14 13  9]\n",
      "[-3  2  2  5 -1]\n",
      "[ 4 35 48 36 20]\n",
      "[     1  16807 262144   6561   1024]\n",
      "[0.25       1.4        1.33333333 2.25       0.8       ]\n",
      "[1.         2.64575131 2.82842712 3.         2.        ]\n",
      "[2.         2.23606798 2.44948974 2.         2.23606798]\n"
     ]
    }
   ],
   "source": [
    "import numpy as np\n",
    "arr1=np.array([1,7,8,9,4])\n",
    "arr2=np.array([4,5,6,4,5])\n",
    "print(arr1+arr2)\n",
    "print(arr1-arr2)\n",
    "print(arr1*arr2)\n",
    "print(arr1**arr2)\n",
    "print(arr1/arr2)\n",
    "print(np.sqrt(arr1))\n",
    "print(np.sqrt(arr2))"
   ]
  },
  {
   "cell_type": "code",
   "execution_count": 29,
   "id": "430500ed-6d05-4862-b105-2be91cc17240",
   "metadata": {},
   "outputs": [
    {
     "name": "stdout",
     "output_type": "stream",
     "text": [
      "[[ 20  40  60]\n",
      " [180 100 120]]\n",
      "120\n",
      "60\n",
      "20\n",
      "100\n",
      "[180 100 120]\n",
      "[ 60 120]\n"
     ]
    }
   ],
   "source": [
    "arr2=np.array([[20,40,60],[180,100,120]])\n",
    "print(arr2)\n",
    "print(arr2[1,2])\n",
    "print(arr2[0,2])\n",
    "print(arr2[0,0])\n",
    "print(arr2[1,1])\n",
    "print(arr2[1,:])\n",
    "print(arr2[:,2])"
   ]
  },
  {
   "cell_type": "code",
   "execution_count": 33,
   "id": "953df168-eaef-4822-9d9e-cb3869fa358d",
   "metadata": {},
   "outputs": [
    {
     "name": "stdout",
     "output_type": "stream",
     "text": [
      "(2, 3)\n",
      "2\n",
      "int32\n",
      "4\n",
      "6\n"
     ]
    }
   ],
   "source": [
    "arr2=np.array([[20,40,60],[180,100,120]])\n",
    "print(arr2.shape)\n",
    "print(arr2.ndim)\n",
    "print(arr2.dtype)\n",
    "print(arr2.itemsize)\n",
    "print(arr2.size)"
   ]
  },
  {
   "cell_type": "code",
   "execution_count": 35,
   "id": "987aad42-f337-4d37-b13a-f54a6e5254c3",
   "metadata": {},
   "outputs": [
    {
     "name": "stdout",
     "output_type": "stream",
     "text": [
      "520\n",
      "[200 140 180]\n",
      "[120 400]\n",
      "20\n",
      "180\n",
      "86.66666666666667\n",
      "53.748384988656994\n"
     ]
    }
   ],
   "source": [
    "arr2=np.array([[20,40,60],[180,100,120]])\n",
    "print(arr2.sum())\n",
    "print(arr2.sum(axis=0))\n",
    "print(arr2.sum(axis=1))\n",
    "print(arr2.min())\n",
    "print(arr2.max())\n",
    "print(arr2.mean())\n",
    "print(arr2.std())\n",
    "\n"
   ]
  },
  {
   "cell_type": "code",
   "execution_count": 43,
   "id": "147a0fd3-83fc-4db9-b615-09a6cd0b8d90",
   "metadata": {},
   "outputs": [
    {
     "data": {
      "text/plain": [
       "array([[4, 3, 5],\n",
       "       [4, 3, 8]])"
      ]
     },
     "execution_count": 43,
     "metadata": {},
     "output_type": "execute_result"
    }
   ],
   "source": [
    "np.zeros((2,3))\n",
    "np.ones((3,3))\n",
    "np.eye(3)\n",
    "np.full((2,2),7)\n",
    "np.arange(0,10,2)\n",
    "np.linspace(0,1,5)\n",
    "np.random.rand(2,3)\n",
    "np.random.randint(1,10,(2,3))\n"
   ]
  },
  {
   "cell_type": "code",
   "execution_count": 49,
   "id": "f2eb1300-1f54-4286-be62-569ebfc023c3",
   "metadata": {},
   "outputs": [
    {
     "name": "stdout",
     "output_type": "stream",
     "text": [
      "this is index value0 and value of data1\n",
      "this is index value1 and value of data2\n",
      "this is index value2 and value of data3\n",
      "this is index value3 and value of data4\n",
      "this is index value4 and value of data5\n"
     ]
    }
   ],
   "source": [
    "a=np.array([1,2,3,4,5])\n",
    "for index_value, value in enumerate(a):\n",
    "       print(f'this is index value{index_value} and value of data{value}')"
   ]
  },
  {
   "cell_type": "code",
   "execution_count": 55,
   "id": "908988e5-c46c-480e-9b8b-b8a45451bac9",
   "metadata": {},
   "outputs": [
    {
     "name": "stdout",
     "output_type": "stream",
     "text": [
      "[1000 2500 4000 5600 3250]\n",
      "['medical' 'grocery' 'clothes' 'rent' 'education']\n",
      "1000\n",
      "5600\n",
      "16350\n",
      "3270.0\n"
     ]
    }
   ],
   "source": [
    "#monthly tracker\n",
    "#minor project\n",
    "expense=np.array([1000,2500,4000,5600,3250])\n",
    "category=np.array(['medical','grocery','clothes','rent','education'])\n",
    "print(expense)\n",
    "print(category)\n",
    "print(expense.min())\n",
    "print(expense.max())\n",
    "print(expense.sum())\n",
    "print(expense.mean())"
   ]
  },
  {
   "cell_type": "code",
   "execution_count": null,
   "id": "9cd57807-71d3-42b4-ad34-56f79f16e8e9",
   "metadata": {},
   "outputs": [],
   "source": []
  }
 ],
 "metadata": {
  "kernelspec": {
   "display_name": "Python 3 (ipykernel)",
   "language": "python",
   "name": "python3"
  },
  "language_info": {
   "codemirror_mode": {
    "name": "ipython",
    "version": 3
   },
   "file_extension": ".py",
   "mimetype": "text/x-python",
   "name": "python",
   "nbconvert_exporter": "python",
   "pygments_lexer": "ipython3",
   "version": "3.12.4"
  }
 },
 "nbformat": 4,
 "nbformat_minor": 5
}
