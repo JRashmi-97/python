{
 "cells": [
  {
   "cell_type": "code",
   "execution_count": 1,
   "id": "6abf55fd-5f2f-40fc-9357-b27926819e2f",
   "metadata": {},
   "outputs": [
    {
     "name": "stdin",
     "output_type": "stream",
     "text": [
      "Enter the first number 56\n",
      "Enter the second number 96\n",
      "Any Operation(+,-,*,/): /\n"
     ]
    },
    {
     "name": "stdout",
     "output_type": "stream",
     "text": [
      "Division: 0.5833333333333334\n"
     ]
    }
   ],
   "source": [
    "#Simple Calculator\n",
    "num1 = int(input('Enter the first number'))\n",
    "num2 = int(input('Enter the second number'))\n",
    "operation = input('Any Operation(+,-,*,/):')\n",
    "if operation == '+':\n",
    "   print('Addition:',num1 + num2)\n",
    "elif operation == '-':\n",
    "      print('Difference:', num1 - num2)\n",
    "elif operation == '*':\n",
    "      print('Multiplication:', num1 * num2)\n",
    "elif operation == '/':\n",
    "      print('Division:', num1 / num2)\n",
    "else: print('Invalid Operation')"
   ]
  },
  {
   "cell_type": "code",
   "execution_count": 9,
   "id": "a7524e94-ff21-44c2-91c1-cf4ef7f9abe1",
   "metadata": {},
   "outputs": [
    {
     "name": "stdout",
     "output_type": "stream",
     "text": [
      "total marks 100\n"
     ]
    },
    {
     "name": "stdin",
     "output_type": "stream",
     "text": [
      "enter your number 466\n"
     ]
    },
    {
     "name": "stdout",
     "output_type": "stream",
     "text": [
      "invalid marks\n"
     ]
    }
   ],
   "source": [
    "#grade calculator\n",
    "total=100\n",
    "print(\"total marks\",total)\n",
    "num=int(input(\"enter your number\"))\n",
    "if num<=100 and num>=80:\n",
    "    print(\"A garde\")\n",
    "elif num<80 and num>=50:\n",
    "    print(\"B garde\")\n",
    "elif num<50 and num>=33:\n",
    "    print(\"C garde\")\n",
    "elif num<33:\n",
    "    print(\"fail\")\n",
    "else:\n",
    "    print(\"invalid marks\")\n",
    "        \n",
    "        \n",
    "        "
   ]
  },
  {
   "cell_type": "code",
   "execution_count": 13,
   "id": "97ae9edd-ca16-4088-8872-7a9ac73013bc",
   "metadata": {},
   "outputs": [
    {
     "name": "stdin",
     "output_type": "stream",
     "text": [
      "enter your age 45\n"
     ]
    },
    {
     "name": "stdout",
     "output_type": "stream",
     "text": [
      "welcome!! eligible for vote\n"
     ]
    }
   ],
   "source": [
    "#voting age\n",
    "age=int(input(\"enter your age\"))\n",
    "if age<18:\n",
    "    print(\"you are minor for voting\")\n",
    "else:\n",
    "    print(\"welcome!! eligible for vote\")\n",
    "\n"
   ]
  },
  {
   "cell_type": "code",
   "execution_count": 15,
   "id": "43e123d5-8d96-435e-99b5-9adf9b6e7421",
   "metadata": {},
   "outputs": [
    {
     "name": "stdout",
     "output_type": "stream",
     "text": [
      "the electricity bill price is Rs. 2.5 per unit\n"
     ]
    },
    {
     "name": "stdin",
     "output_type": "stream",
     "text": [
      "Enter your units:  56\n"
     ]
    },
    {
     "name": "stdout",
     "output_type": "stream",
     "text": [
      "The bill is free!!\n"
     ]
    }
   ],
   "source": [
    "#minor project electricity bill generator\n",
    "print(\"the electricity bill price is Rs. 2.5 per unit\")\n",
    "units=int(input(\"Enter your units: \"))\n",
    "if units<200:\n",
    "    print(\"The bill is free!!\")\n",
    "else: \n",
    "    bill=2.5 * units\n",
    "    print(\"the bill is: \",bill)"
   ]
  },
  {
   "cell_type": "code",
   "execution_count": 17,
   "id": "cf22be07-a85a-42e8-8525-dadaf5bf0bb0",
   "metadata": {},
   "outputs": [
    {
     "name": "stdout",
     "output_type": "stream",
     "text": [
      "-----LIBRARY FINE CALCULATOR-----\n",
      "The library fine for not returning books after 5 days is Rs.50 per day\n"
     ]
    },
    {
     "name": "stdin",
     "output_type": "stream",
     "text": [
      "Enter days:  12\n"
     ]
    },
    {
     "name": "stdout",
     "output_type": "stream",
     "text": [
      "Your fine is :Rs. 350\n"
     ]
    }
   ],
   "source": [
    "# minor project library fine calculator\n",
    "print(\"-----LIBRARY FINE CALCULATOR-----\")\n",
    "print(\"The library fine for not returning books after 5 days is Rs.50 per day\")\n",
    "days_late=int(input(\"Enter days: \"))\n",
    "if days_late<=5:\n",
    "    print(\"No fine!!\")\n",
    "elif days_late>5 and days_late<=30:\n",
    "    fine=(days_late -5 )*50\n",
    "    print(\"Your fine is :Rs.\", fine)\n",
    "else:\n",
    "    print(\"Membership cancelled!!\")"
   ]
  },
  {
   "cell_type": "code",
   "execution_count": null,
   "id": "0436bc55-fed3-4117-bf8e-e0073319d50e",
   "metadata": {},
   "outputs": [],
   "source": []
  }
 ],
 "metadata": {
  "kernelspec": {
   "display_name": "Python 3 (ipykernel)",
   "language": "python",
   "name": "python3"
  },
  "language_info": {
   "codemirror_mode": {
    "name": "ipython",
    "version": 3
   },
   "file_extension": ".py",
   "mimetype": "text/x-python",
   "name": "python",
   "nbconvert_exporter": "python",
   "pygments_lexer": "ipython3",
   "version": "3.12.4"
  }
 },
 "nbformat": 4,
 "nbformat_minor": 5
}
