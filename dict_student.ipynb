{
 "cells": [
  {
   "cell_type": "code",
   "execution_count": 5,
   "id": "233fcab1-8ff4-4b79-a101-8e19d9172e2b",
   "metadata": {},
   "outputs": [
    {
     "name": "stdout",
     "output_type": "stream",
     "text": [
      "dict_keys(['name', 'class', 'sec'])\n"
     ]
    }
   ],
   "source": [
    "g={'name':\"rashmi\",'class':12,'sec':\"A\"}\n",
    "k=g.keys()\n",
    "print(k)"
   ]
  },
  {
   "cell_type": "code",
   "execution_count": 7,
   "id": "6a63c87a-8fb1-4dc8-9eac-45dbeb48537b",
   "metadata": {},
   "outputs": [
    {
     "name": "stdout",
     "output_type": "stream",
     "text": [
      "dict_values(['rashmi', 12, 'A'])\n"
     ]
    }
   ],
   "source": [
    "g={'name':\"rashmi\",'class':12,'sec':\"A\"}\n",
    "k=g.values()\n",
    "print(k)"
   ]
  },
  {
   "cell_type": "code",
   "execution_count": 9,
   "id": "5b9e623c-8869-44a2-ad75-6b13690488f4",
   "metadata": {},
   "outputs": [
    {
     "name": "stdout",
     "output_type": "stream",
     "text": [
      "dict_items([('name', 'rashmi'), ('class', 12), ('sec', 'A')])\n"
     ]
    }
   ],
   "source": [
    "g={'name':\"rashmi\",'class':12,'sec':\"A\"}\n",
    "k=g.items()\n",
    "print(k)"
   ]
  },
  {
   "cell_type": "code",
   "execution_count": 15,
   "id": "b1838b25-2fcd-4330-8a44-b4c839dd653d",
   "metadata": {},
   "outputs": [
    {
     "name": "stdout",
     "output_type": "stream",
     "text": [
      "12\n"
     ]
    }
   ],
   "source": [
    "g={'name':\"rashmi\",'class':12,'sec':\"A\"}\n",
    "k=g.pop('class')\n",
    "print(k)"
   ]
  },
  {
   "cell_type": "code",
   "execution_count": 1,
   "id": "02a66bdc-4b04-42d6-b7b7-14dfef4211f0",
   "metadata": {},
   "outputs": [
    {
     "name": "stdin",
     "output_type": "stream",
     "text": [
      "enter your name ram\n",
      "enter your marks 89\n"
     ]
    },
    {
     "name": "stdout",
     "output_type": "stream",
     "text": [
      "dict_items([('neha', 98), ('rashmi', 78), ('tarun', 67), ('ram', '89')])\n",
      "{'neha': 98, 'rashmi': 78, 'tarun': 67, 'ram': '89', 'ashima': 56, 'khushi': 98}\n"
     ]
    }
   ],
   "source": [
    "student={\"neha\":98,\"rashmi\":78,\"tarun\":67}\n",
    "def add():\n",
    "    name=input(\"enter your name\")\n",
    "    marks=input(\"enter your marks\")\n",
    "    student[name]=marks\n",
    "\n",
    "add()\n",
    "print(student.items())\n",
    "student.update({\"ashima\":56,\"khushi\":98})\n",
    "print(student)\n"
   ]
  },
  {
   "cell_type": "code",
   "execution_count": 20,
   "id": "c72449ad-1ca0-43b3-8518-a42efa1bc5f9",
   "metadata": {},
   "outputs": [
    {
     "name": "stdout",
     "output_type": "stream",
     "text": [
      "welcome in atm \n"
     ]
    },
    {
     "name": "stdin",
     "output_type": "stream",
     "text": [
      "Insert your card card\n"
     ]
    },
    {
     "name": "stdout",
     "output_type": "stream",
     "text": [
      "card inserted...\n"
     ]
    },
    {
     "name": "stdin",
     "output_type": "stream",
     "text": [
      "Enter your pin 1234\n"
     ]
    },
    {
     "name": "stdout",
     "output_type": "stream",
     "text": [
      "1)check balance\n",
      "2)withdraw\n",
      "3)credit amount\n"
     ]
    },
    {
     "name": "stdin",
     "output_type": "stream",
     "text": [
      "enter your option 2\n",
      "enter your amount 453664\n"
     ]
    },
    {
     "name": "stdout",
     "output_type": "stream",
     "text": [
      "your avaible balance is :-  780460\n"
     ]
    }
   ],
   "source": [
    "class Atm_machine:\n",
    "    def __init__(self,amount=1234124,pin=1234):\n",
    "        self.amount=amount\n",
    "        self.pin=pin\n",
    "        print('welcome in atm ')\n",
    "    def card_insert(self):\n",
    "        if 'card'==input('Insert your card'):\n",
    "            print('card inserted...')\n",
    "            if self.pin==int(input('Enter your pin')):\n",
    "                print('1)check balance\\n2)withdraw\\n3)credit amount')\n",
    "                option=int(input('enter your option'))\n",
    "                if option==1:\n",
    "                    p1.check_balance()\n",
    "                elif option==2:\n",
    "                    p1.withdraw()\n",
    "                elif option==3:\n",
    "                    p1.credit()\n",
    "                else:\n",
    "                    print('Invalid option')\n",
    "                    \n",
    "            else:\n",
    "                print('wrong pin')\n",
    "        else:\n",
    "            print('invalid card')\n",
    "    def check_balance(self):\n",
    "        print('your current balance is :- ',self.amount)\n",
    "    def withdraw(self):\n",
    "        user_amount=int(input('enter your amount'))\n",
    "        print('your avaible balance is :- ',self.amount-user_amount)\n",
    "    def credit(self):\n",
    "        user_amount=int(input(\"enter the amount to credit\"))\n",
    "        print('your final amountis:-',self.amount+user_amount)\n",
    "                    \n",
    "p1=Atm_machine()\n",
    "p1.card_insert()\n",
    "        \n",
    "   "
   ]
  },
  {
   "cell_type": "code",
   "execution_count": null,
   "id": "3221fde8-e22d-4887-a400-f6e97cb6212b",
   "metadata": {},
   "outputs": [],
   "source": []
  }
 ],
 "metadata": {
  "kernelspec": {
   "display_name": "Python 3 (ipykernel)",
   "language": "python",
   "name": "python3"
  },
  "language_info": {
   "codemirror_mode": {
    "name": "ipython",
    "version": 3
   },
   "file_extension": ".py",
   "mimetype": "text/x-python",
   "name": "python",
   "nbconvert_exporter": "python",
   "pygments_lexer": "ipython3",
   "version": "3.12.4"
  }
 },
 "nbformat": 4,
 "nbformat_minor": 5
}
